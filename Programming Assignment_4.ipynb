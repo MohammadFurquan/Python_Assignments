{
 "cells": [
  {
   "cell_type": "markdown",
   "id": "20cb4340",
   "metadata": {},
   "source": [
    "## Programming Assignment_4\n",
    "----------------"
   ]
  },
  {
   "cell_type": "markdown",
   "id": "4fdb6695",
   "metadata": {},
   "source": [
    "### 1. Write a Python Program to Find the Factorial of a Number?\n",
    "##### Sol."
   ]
  },
  {
   "cell_type": "code",
   "execution_count": 1,
   "id": "0e5e7ce2",
   "metadata": {},
   "outputs": [
    {
     "name": "stdout",
     "output_type": "stream",
     "text": [
      "Enter a number: 34\n",
      "The factorial of 34 is 295232799039604140847618609643520000000\n"
     ]
    }
   ],
   "source": [
    "num = int(input(\"Enter a number: \"))  \n",
    "\n",
    "fact=1\n",
    "for i in range(1,num+1):\n",
    "    fact*=i\n",
    "\n",
    "print(\"The factorial of {0} is {1}\".format(num,fact))"
   ]
  },
  {
   "cell_type": "markdown",
   "id": "e6beef62",
   "metadata": {},
   "source": [
    "### 2. Write a Python Program to Display the multiplication Table?\n",
    "##### Sol."
   ]
  },
  {
   "cell_type": "code",
   "execution_count": 2,
   "id": "eba74c90",
   "metadata": {},
   "outputs": [
    {
     "name": "stdout",
     "output_type": "stream",
     "text": [
      "2 x 1 = 2\n",
      "2 x 2 = 4\n",
      "2 x 3 = 6\n",
      "2 x 4 = 8\n",
      "2 x 5 = 10\n",
      "2 x 6 = 12\n",
      "2 x 7 = 14\n",
      "2 x 8 = 16\n",
      "2 x 9 = 18\n",
      "2 x 10 = 20\n"
     ]
    }
   ],
   "source": [
    "num =2\n",
    "for i in range(1, 11): #here the loop will start form 1 to 10\n",
    "    print(\"{} x {} = {}\".format(num, i, num*i)) "
   ]
  },
  {
   "cell_type": "markdown",
   "id": "7de7eba5",
   "metadata": {},
   "source": [
    "### 3. Write a Python Program to Print the Fibonacci sequence?\n",
    "##### Sol."
   ]
  },
  {
   "cell_type": "code",
   "execution_count": 3,
   "id": "14b8e06e",
   "metadata": {},
   "outputs": [
    {
     "name": "stdout",
     "output_type": "stream",
     "text": [
      "Enter a length: 4\n",
      "0 1 1 2 "
     ]
    }
   ],
   "source": [
    "fibo_length = int(input(\"Enter a length: \"))\n",
    "\n",
    "a = 0\n",
    "b = 1\n",
    "print(a, end = ' ')\n",
    "print(b, end = ' ')\n",
    "while(fibo_length-2 > 0):\n",
    "    c = a + b\n",
    "    print(c, end = ' ')\n",
    "    a = b\n",
    "    b = c\n",
    "    \n",
    "    fibo_length -= 1"
   ]
  },
  {
   "cell_type": "markdown",
   "id": "0446442e",
   "metadata": {},
   "source": [
    "### 4. Write a Python Program to Check Armstrong Number?\n",
    "##### Sol. "
   ]
  },
  {
   "cell_type": "code",
   "execution_count": 4,
   "id": "8275da72",
   "metadata": {},
   "outputs": [
    {
     "name": "stdout",
     "output_type": "stream",
     "text": [
      "153 is an armstrong number\n"
     ]
    }
   ],
   "source": [
    "\n",
    "\n",
    "\n",
    "num=153\n",
    "temp=num\n",
    "arm=0\n",
    "while num>0:\n",
    "    digit=num%10\n",
    "    arm=digit**3+arm\n",
    "    num=num//10\n",
    "\n",
    "\n",
    "if temp==arm:\n",
    "    print(\"{} is an armstrong number\".format(temp))\n",
    "else:\n",
    "    print(\"{} is not an armstrong number.format(temp)\")\n",
    "    "
   ]
  },
  {
   "cell_type": "code",
   "execution_count": 5,
   "id": "da8cea05",
   "metadata": {},
   "outputs": [],
   "source": [
    "# import math\n",
    "# def fibo_check(num):\n",
    "#     l = len(str(num))  ## l = number of digits of number\n",
    "#     sum1 = 0 \n",
    "#     temp_num = num\n",
    "#     while(num > 0):\n",
    "#         d = num % 10\n",
    "#         sum1 += int(math.pow(d, l))\n",
    "#         num = num // 10\n",
    "\n",
    "#     if(sum1 == int(temp_num)):\n",
    "#         return 1\n",
    "#     else:\n",
    "#         return 0\n",
    "\n",
    "# num = int(input(\"Enter a number: \"))\n",
    "\n",
    "# if(fibo_check(num)):\n",
    "#     print(\"{} is an armstrong number\".format(num))\n",
    "# else:\n",
    "#     print(\"{} is not an armstrong number\".format(num))"
   ]
  },
  {
   "cell_type": "markdown",
   "id": "a6f9adfe",
   "metadata": {},
   "source": [
    "### 5. Write a Python Program to Find Armstrong Number in an Interval?\n",
    "##### Sol."
   ]
  },
  {
   "cell_type": "code",
   "execution_count": 6,
   "id": "0c4aa2f5",
   "metadata": {},
   "outputs": [
    {
     "name": "stdout",
     "output_type": "stream",
     "text": [
      "Enter the lower value of range: 10\n",
      "Enter the higher value of range: 199\n",
      "\n",
      "From 10 to 199 following are the Armstrong Number:\n"
     ]
    },
    {
     "ename": "NameError",
     "evalue": "name 'fibo_check' is not defined",
     "output_type": "error",
     "traceback": [
      "\u001b[1;31m---------------------------------------------------------------------------\u001b[0m",
      "\u001b[1;31mNameError\u001b[0m                                 Traceback (most recent call last)",
      "Input \u001b[1;32mIn [6]\u001b[0m, in \u001b[0;36m<cell line: 5>\u001b[1;34m()\u001b[0m\n\u001b[0;32m      4\u001b[0m \u001b[38;5;28mprint\u001b[39m(\u001b[38;5;124m\"\u001b[39m\u001b[38;5;130;01m\\n\u001b[39;00m\u001b[38;5;124mFrom \u001b[39m\u001b[38;5;132;01m{}\u001b[39;00m\u001b[38;5;124m to \u001b[39m\u001b[38;5;132;01m{}\u001b[39;00m\u001b[38;5;124m following are the Armstrong Number:\u001b[39m\u001b[38;5;124m\"\u001b[39m\u001b[38;5;241m.\u001b[39mformat(low, high), end\u001b[38;5;241m=\u001b[39m\u001b[38;5;124m'\u001b[39m\u001b[38;5;130;01m\\n\u001b[39;00m\u001b[38;5;124m'\u001b[39m)\n\u001b[0;32m      5\u001b[0m \u001b[38;5;28;01mfor\u001b[39;00m i \u001b[38;5;129;01min\u001b[39;00m \u001b[38;5;28mrange\u001b[39m(low, high\u001b[38;5;241m+\u001b[39m\u001b[38;5;241m1\u001b[39m):\n\u001b[1;32m----> 7\u001b[0m     \u001b[38;5;28;01mif\u001b[39;00m(\u001b[43mfibo_check\u001b[49m(i)):\n\u001b[0;32m      8\u001b[0m         \u001b[38;5;28mprint\u001b[39m(i, end \u001b[38;5;241m=\u001b[39m \u001b[38;5;124m'\u001b[39m\u001b[38;5;124m \u001b[39m\u001b[38;5;124m'\u001b[39m)\n",
      "\u001b[1;31mNameError\u001b[0m: name 'fibo_check' is not defined"
     ]
    }
   ],
   "source": [
    "low = int(input(\"Enter the lower value of range: \"))\n",
    "high = int(input(\"Enter the higher value of range: \"))\n",
    "\n",
    "print(\"\\nFrom {} to {} following are the Armstrong Number:\".format(low, high), end='\\n')\n",
    "for i in range(low, high+1):\n",
    "    \n",
    "    if(fibo_check(i)):\n",
    "        print(i, end = ' ')"
   ]
  },
  {
   "cell_type": "markdown",
   "id": "157cad60",
   "metadata": {},
   "source": [
    "### 6. Write a Python Program to Find the Sum of Natural Numbers?\n",
    "##### Sol."
   ]
  },
  {
   "cell_type": "code",
   "execution_count": 7,
   "id": "aa7cf139",
   "metadata": {},
   "outputs": [
    {
     "name": "stdout",
     "output_type": "stream",
     "text": [
      "Enter a positive number: 34\n",
      "Sum of 34 natural number is 595\n"
     ]
    }
   ],
   "source": [
    "num = int(input(\"Enter a positive number: \"))\n",
    "\n",
    "total_sum = 0\n",
    "for i in range(1, num+1):\n",
    "    total_sum += i\n",
    "    \n",
    "print(\"Sum of {} natural number is {}\".format(num, total_sum))"
   ]
  },
  {
   "cell_type": "code",
   "execution_count": null,
   "id": "333c15da",
   "metadata": {},
   "outputs": [],
   "source": []
  }
 ],
 "metadata": {
  "kernelspec": {
   "display_name": "Python 3 (ipykernel)",
   "language": "python",
   "name": "python3"
  },
  "language_info": {
   "codemirror_mode": {
    "name": "ipython",
    "version": 3
   },
   "file_extension": ".py",
   "mimetype": "text/x-python",
   "name": "python",
   "nbconvert_exporter": "python",
   "pygments_lexer": "ipython3",
   "version": "3.10.7"
  }
 },
 "nbformat": 4,
 "nbformat_minor": 5
}
