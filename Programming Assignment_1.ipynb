{
 "cells": [
  {
   "cell_type": "markdown",
   "id": "637b47a5",
   "metadata": {},
   "source": [
    "## Programming Assignment_1\n",
    "-------------"
   ]
  },
  {
   "cell_type": "markdown",
   "id": "0c647dbe",
   "metadata": {},
   "source": [
    "### 1. Write a Python program to print \"Hello Python\"?\n",
    "##### Sol:"
   ]
  },
  {
   "cell_type": "code",
   "execution_count": 1,
   "id": "732cbadd",
   "metadata": {},
   "outputs": [
    {
     "name": "stdout",
     "output_type": "stream",
     "text": [
      "Hello Python\n"
     ]
    }
   ],
   "source": [
    "print(\"Hello Python\")"
   ]
  },
  {
   "cell_type": "markdown",
   "id": "fc18a6cd",
   "metadata": {},
   "source": [
    "### 2. Write a Python program to do arithmetical operations addition and division.?\n",
    "##### Sol:"
   ]
  },
  {
   "cell_type": "code",
   "execution_count": 2,
   "id": "d5e81491",
   "metadata": {},
   "outputs": [
    {
     "name": "stdout",
     "output_type": "stream",
     "text": [
      "12\n",
      "5.0\n"
     ]
    }
   ],
   "source": [
    "a = 10\n",
    "b = 2\n",
    "total = a + b\n",
    "\n",
    "div = a/b\n",
    "\n",
    "print(total)\n",
    "print(div) # we can also divide by using // it will give interger as a output"
   ]
  },
  {
   "cell_type": "markdown",
   "id": "af6e2429",
   "metadata": {},
   "source": [
    "### 3. Write a Python program to find the area of a triangle?\n",
    "##### Sol:"
   ]
  },
  {
   "cell_type": "code",
   "execution_count": 3,
   "id": "d5d93846",
   "metadata": {},
   "outputs": [
    {
     "name": "stdout",
     "output_type": "stream",
     "text": [
      "The area of a triangle is :  517.5\n"
     ]
    }
   ],
   "source": [
    "#By using the formala of area of triangle we can find it\n",
    "h=45\n",
    "b=23\n",
    "area=h*b/2\n",
    "print(\"The area of a triangle is : \",area)"
   ]
  },
  {
   "cell_type": "markdown",
   "id": "b8140061",
   "metadata": {},
   "source": [
    "### 4. Write a Python program to swap two variables?\n",
    "##### Sol:"
   ]
  },
  {
   "cell_type": "code",
   "execution_count": 4,
   "id": "182608ba",
   "metadata": {},
   "outputs": [
    {
     "name": "stdout",
     "output_type": "stream",
     "text": [
      "The value of a is :  222\n",
      "The value of b is :  333\n",
      "The value of a is :  222\n",
      "The value of b is :  333\n",
      "The value of a is :  222\n",
      "The value of b is :  333\n"
     ]
    }
   ],
   "source": [
    "#We can swap 2 variables in python there are 3 ways \n",
    "#1 using temp variable\n",
    "a=333\n",
    "b=222\n",
    "temp=a\n",
    "a=b\n",
    "b=temp\n",
    "print(\"The value of a is : \",a)\n",
    "print(\"The value of b is : \",b)\n",
    "\n",
    "#2\n",
    "a=333\n",
    "b=222\n",
    "a,b=b,a\n",
    "print(\"The value of a is : \",a)\n",
    "print(\"The value of b is : \",b)\n",
    "\n",
    "\n",
    "#3 Without using temp or any other variable\n",
    "a=333\n",
    "b=222\n",
    "a=a+b\n",
    "b=a-b\n",
    "a=a-b\n",
    "print(\"The value of a is : \",a)\n",
    "print(\"The value of b is : \",b)"
   ]
  },
  {
   "cell_type": "markdown",
   "id": "3f8054c1",
   "metadata": {},
   "source": [
    "### 5. Write a Python program to generate a random number?\n",
    "##### Sol:"
   ]
  },
  {
   "cell_type": "code",
   "execution_count": 5,
   "id": "f1e76df9",
   "metadata": {},
   "outputs": [
    {
     "name": "stdout",
     "output_type": "stream",
     "text": [
      "0.8647754125032384\n",
      "457\n"
     ]
    }
   ],
   "source": [
    "#By using random library\n",
    "import random\n",
    "\n",
    "print(random.random())\n",
    "print(random.randint(1, 1000)) #it will generate random no in range of 1 to 999"
   ]
  }
 ],
 "metadata": {
  "kernelspec": {
   "display_name": "Python 3 (ipykernel)",
   "language": "python",
   "name": "python3"
  },
  "language_info": {
   "codemirror_mode": {
    "name": "ipython",
    "version": 3
   },
   "file_extension": ".py",
   "mimetype": "text/x-python",
   "name": "python",
   "nbconvert_exporter": "python",
   "pygments_lexer": "ipython3",
   "version": "3.10.7"
  }
 },
 "nbformat": 4,
 "nbformat_minor": 5
}
